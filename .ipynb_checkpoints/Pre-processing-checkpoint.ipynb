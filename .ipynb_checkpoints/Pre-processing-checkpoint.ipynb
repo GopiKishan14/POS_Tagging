{
 "cells": [
  {
   "cell_type": "code",
   "execution_count": 1,
   "metadata": {},
   "outputs": [],
   "source": [
    "import sys\n",
    "import os\n",
    "import xml.etree.ElementTree as ET\n",
    "\n",
    "def Readthexml(filename):\n",
    "    \"\"\"Read the file from the argument list and dump the title contents and keywords\"\"\"\n",
    "    tree = ET.parse(\"Train-corpus/\" + filename)\n",
    "    root = tree.getroot()\n",
    "    for w in root.iter('w'):\n",
    "        out.write(w.text.strip().lower() + \"_\" + w.attrib['pos'] + \"\\n\")\n",
    "\n",
    "directory = \"Train-corpus\"\n",
    "out = open(\"data\" + \".txt\", \"w\")\n",
    "for filename in os.listdir(directory):\n",
    "    Readthexml(filename)"
   ]
  },
  {
   "cell_type": "code",
   "execution_count": null,
   "metadata": {},
   "outputs": [],
   "source": []
  },
  {
   "cell_type": "code",
   "execution_count": 2,
   "metadata": {},
   "outputs": [],
   "source": [
    "dictionary = {}\n",
    "file  = open(\"data.txt\", \"r\")\n",
    "\n",
    "for word_tag in file:\n",
    "    word_tag = word_tag.strip()\n",
    "    if word_tag in dictionary:\n",
    "        dictionary[word_tag] += 1\n",
    "    else:\n",
    "        dictionary[word_tag] = 1"
   ]
  },
  {
   "cell_type": "code",
   "execution_count": 3,
   "metadata": {},
   "outputs": [],
   "source": [
    "# dictionary"
   ]
  },
  {
   "cell_type": "code",
   "execution_count": 4,
   "metadata": {},
   "outputs": [],
   "source": [
    "import pickle\n",
    "\n",
    "filename = \"word_freq\"\n",
    "outfile = open(filename,'wb')\n",
    "\n",
    "pickle.dump(dictionary,outfile)\n",
    "outfile.close()"
   ]
  },
  {
   "cell_type": "code",
   "execution_count": 5,
   "metadata": {},
   "outputs": [],
   "source": [
    "import pickle\n",
    "\n",
    "infile = open(\"word_freq\",'rb')\n",
    "new_dict = pickle.load(infile)\n",
    "infile.close()\n",
    "\n",
    "s = [(k, new_dict[k]) for k in sorted(new_dict, key=new_dict.get, reverse=True)]"
   ]
  },
  {
   "cell_type": "code",
   "execution_count": 6,
   "metadata": {},
   "outputs": [
    {
     "data": {
      "text/plain": [
       "[('the_ART', 51512),\n",
       " ('of_PREP', 26097),\n",
       " ('and_CONJ', 23831),\n",
       " ('to_PREP', 23658),\n",
       " ('a_ART', 20123),\n",
       " ('in_PREP', 15368),\n",
       " ('is_VERB', 10944),\n",
       " ('it_PRON', 9224),\n",
       " ('i_PRON', 8385),\n",
       " ('for_PREP', 7253)]"
      ]
     },
     "execution_count": 6,
     "metadata": {},
     "output_type": "execute_result"
    }
   ],
   "source": [
    "s[:10]"
   ]
  },
  {
   "cell_type": "code",
   "execution_count": 7,
   "metadata": {},
   "outputs": [],
   "source": [
    "# word_lst =set()\n",
    "# tag_lst = set()\n",
    "\n",
    "word_dict = {}\n",
    "tag_dict = {}\n",
    "\n",
    "for keys in new_dict:\n",
    "    word, pos = keys.split(\"_\")\n",
    "    word = word.strip()\n",
    "    pos = pos.strip()\n",
    "\n",
    "    if word in word_dict:\n",
    "        word_dict[word] +=new_dict[keys]\n",
    "    else:\n",
    "        word_dict[word] = new_dict[keys]\n",
    "    \n",
    "    if pos in tag_dict:\n",
    "        tag_dict[pos] += new_dict[keys]\n",
    "    else:\n",
    "        tag_dict[pos] = new_dict[keys]"
   ]
  },
  {
   "cell_type": "code",
   "execution_count": 8,
   "metadata": {},
   "outputs": [
    {
     "data": {
      "text/plain": [
       "(40443, 10)"
      ]
     },
     "execution_count": 8,
     "metadata": {},
     "output_type": "execute_result"
    }
   ],
   "source": [
    "len(word_dict) , len(tag_dict)"
   ]
  },
  {
   "cell_type": "code",
   "execution_count": 9,
   "metadata": {},
   "outputs": [],
   "source": [
    "word_freq = [(k, word_dict[k]) for k in sorted(word_dict, key=word_dict.get, reverse=True)]"
   ]
  },
  {
   "cell_type": "code",
   "execution_count": 10,
   "metadata": {},
   "outputs": [],
   "source": [
    "tag_freq = [(k, tag_dict[k]) for k in sorted(tag_dict, key=tag_dict.get, reverse=True)]"
   ]
  },
  {
   "cell_type": "code",
   "execution_count": 11,
   "metadata": {},
   "outputs": [
    {
     "data": {
      "text/plain": [
       "[('the', 51512),\n",
       " ('of', 26097),\n",
       " ('and', 23831),\n",
       " ('to', 23659),\n",
       " ('a', 20270),\n",
       " ('in', 15875),\n",
       " ('is', 10944),\n",
       " ('it', 9239),\n",
       " ('i', 8441),\n",
       " ('that', 8438)]"
      ]
     },
     "execution_count": 11,
     "metadata": {},
     "output_type": "execute_result"
    }
   ],
   "source": [
    "word_freq[:10]"
   ]
  },
  {
   "cell_type": "code",
   "execution_count": 12,
   "metadata": {},
   "outputs": [
    {
     "data": {
      "text/plain": [
       "[('SUBST', 211515),\n",
       " ('VERB', 159848),\n",
       " ('PREP', 110897),\n",
       " ('ADJ', 98148),\n",
       " ('ART', 76652),\n",
       " ('PRON', 75305),\n",
       " ('ADV', 59997),\n",
       " ('CONJ', 51821),\n",
       " ('UNC', 6664),\n",
       " ('INTERJ', 1249)]"
      ]
     },
     "execution_count": 12,
     "metadata": {},
     "output_type": "execute_result"
    }
   ],
   "source": [
    "tag_freq"
   ]
  },
  {
   "cell_type": "code",
   "execution_count": 13,
   "metadata": {},
   "outputs": [
    {
     "data": {
      "text/plain": [
       "<Container object of 10 artists>"
      ]
     },
     "execution_count": 13,
     "metadata": {},
     "output_type": "execute_result"
    },
    {
     "data": {
      "image/png": "[encoded data removed]",
      "text/plain": [
       "<matplotlib.figure.Figure at 0x7feb8992d550>"
      ]
     },
     "metadata": {},
     "output_type": "display_data"
    }
   ],
   "source": [
    "import matplotlib.pyplot as plt\n",
    "%matplotlib inline\n",
    "tags = list(tag_dict.keys())\n",
    "tags_frequency = list(tag_dict.values())\n",
    "fig, ax = plt.subplots()\n",
    "ax.barh(tags, tags_frequency)\n"
   ]
  },
  {
   "cell_type": "code",
   "execution_count": 14,
   "metadata": {},
   "outputs": [],
   "source": [
    "# %matplotlib inline\n",
    "# words = word_freq[0]\n",
    "# words_frequency = word_freq[1]\n",
    "# fig, ax = plt.subplots()\n",
    "# ax.barh(words[:10], words_frequency[:10])"
   ]
  },
  {
   "cell_type": "code",
   "execution_count": 15,
   "metadata": {},
   "outputs": [],
   "source": [
    "# TO DO K-MEANS CLUSTER"
   ]
  },
  {
   "cell_type": "code",
   "execution_count": null,
   "metadata": {},
   "outputs": [],
   "source": []
  },
  {
   "cell_type": "code",
   "execution_count": 1,
   "metadata": {},
   "outputs": [],
   "source": [
    "import csv\n",
    "import pandas as pd"
   ]
  },
  {
   "cell_type": "code",
   "execution_count": null,
   "metadata": {},
   "outputs": [],
   "source": [
    "columns = sorted(tag_dict, key=tag_dict.get, reverse=True)\n",
    "rows = sorted(word_dict, key=word_dict.get, reverse=True)\n",
    "# rows = list(word_dict.keys())\n",
    "df = pd.DataFrame(0.0, columns = tags, index=rows)"
   ]
  },
  {
   "cell_type": "code",
   "execution_count": 17,
   "metadata": {},
   "outputs": [
    {
     "data": {
      "text/html": [
       "<div>\n",
       "<style scoped>\n",
       "    .dataframe tbody tr th:only-of-type {\n",
       "        vertical-align: middle;\n",
       "    }\n",
       "\n",
       "    .dataframe tbody tr th {\n",
       "        vertical-align: top;\n",
       "    }\n",
       "\n",
       "    .dataframe thead th {\n",
       "        text-align: right;\n",
       "    }\n",
       "</style>\n",
       "<table border=\"1\" class=\"dataframe\">\n",
       "  <thead>\n",
       "    <tr style=\"text-align: right;\">\n",
       "      <th></th>\n",
       "      <th>SUBST</th>\n",
       "      <th>PRON</th>\n",
       "      <th>VERB</th>\n",
       "      <th>ADJ</th>\n",
       "      <th>ART</th>\n",
       "      <th>PREP</th>\n",
       "      <th>UNC</th>\n",
       "      <th>ADV</th>\n",
       "      <th>CONJ</th>\n",
       "      <th>INTERJ</th>\n",
       "    </tr>\n",
       "  </thead>\n",
       "  <tbody>\n",
       "    <tr>\n",
       "      <th>the</th>\n",
       "      <td>0.0</td>\n",
       "      <td>0.0</td>\n",
       "      <td>0.0</td>\n",
       "      <td>0.0</td>\n",
       "      <td>0.0</td>\n",
       "      <td>0.0</td>\n",
       "      <td>0.0</td>\n",
       "      <td>0.0</td>\n",
       "      <td>0.0</td>\n",
       "      <td>0.0</td>\n",
       "    </tr>\n",
       "    <tr>\n",
       "      <th>of</th>\n",
       "      <td>0.0</td>\n",
       "      <td>0.0</td>\n",
       "      <td>0.0</td>\n",
       "      <td>0.0</td>\n",
       "      <td>0.0</td>\n",
       "      <td>0.0</td>\n",
       "      <td>0.0</td>\n",
       "      <td>0.0</td>\n",
       "      <td>0.0</td>\n",
       "      <td>0.0</td>\n",
       "    </tr>\n",
       "    <tr>\n",
       "      <th>and</th>\n",
       "      <td>0.0</td>\n",
       "      <td>0.0</td>\n",
       "      <td>0.0</td>\n",
       "      <td>0.0</td>\n",
       "      <td>0.0</td>\n",
       "      <td>0.0</td>\n",
       "      <td>0.0</td>\n",
       "      <td>0.0</td>\n",
       "      <td>0.0</td>\n",
       "      <td>0.0</td>\n",
       "    </tr>\n",
       "    <tr>\n",
       "      <th>to</th>\n",
       "      <td>0.0</td>\n",
       "      <td>0.0</td>\n",
       "      <td>0.0</td>\n",
       "      <td>0.0</td>\n",
       "      <td>0.0</td>\n",
       "      <td>0.0</td>\n",
       "      <td>0.0</td>\n",
       "      <td>0.0</td>\n",
       "      <td>0.0</td>\n",
       "      <td>0.0</td>\n",
       "    </tr>\n",
       "    <tr>\n",
       "      <th>a</th>\n",
       "      <td>0.0</td>\n",
       "      <td>0.0</td>\n",
       "      <td>0.0</td>\n",
       "      <td>0.0</td>\n",
       "      <td>0.0</td>\n",
       "      <td>0.0</td>\n",
       "      <td>0.0</td>\n",
       "      <td>0.0</td>\n",
       "      <td>0.0</td>\n",
       "      <td>0.0</td>\n",
       "    </tr>\n",
       "  </tbody>\n",
       "</table>\n",
       "</div>"
      ],
      "text/plain": [
       "     SUBST  PRON  VERB  ADJ  ART  PREP  UNC  ADV  CONJ  INTERJ\n",
       "the    0.0   0.0   0.0  0.0  0.0   0.0  0.0  0.0   0.0     0.0\n",
       "of     0.0   0.0   0.0  0.0  0.0   0.0  0.0  0.0   0.0     0.0\n",
       "and    0.0   0.0   0.0  0.0  0.0   0.0  0.0  0.0   0.0     0.0\n",
       "to     0.0   0.0   0.0  0.0  0.0   0.0  0.0  0.0   0.0     0.0\n",
       "a      0.0   0.0   0.0  0.0  0.0   0.0  0.0  0.0   0.0     0.0"
      ]
     },
     "execution_count": 17,
     "metadata": {},
     "output_type": "execute_result"
    }
   ],
   "source": [
    "df.head()"
   ]
  },
  {
   "cell_type": "code",
   "execution_count": 18,
   "metadata": {},
   "outputs": [],
   "source": [
    "f = df.loc[\"the\"][\"SUBST\"]"
   ]
  },
  {
   "cell_type": "code",
   "execution_count": 19,
   "metadata": {},
   "outputs": [
    {
     "data": {
      "text/plain": [
       "0.0"
      ]
     },
     "execution_count": 19,
     "metadata": {},
     "output_type": "execute_result"
    }
   ],
   "source": [
    "f"
   ]
  },
  {
   "cell_type": "code",
   "execution_count": null,
   "metadata": {},
   "outputs": [],
   "source": []
  },
  {
   "cell_type": "code",
   "execution_count": 20,
   "metadata": {},
   "outputs": [],
   "source": [
    "# data_matrix = {}\n",
    "# tags = list(tag_dict.keys())\n",
    "\n",
    "for word_tag in new_dict.keys():\n",
    "    word, tag = word_tag.split(\"_\")\n",
    "#     word = word.strip()\n",
    "#     tag = tag.strip()\n",
    "    df.loc[word][tag] = new_dict[word_tag]\n"
   ]
  },
  {
   "cell_type": "code",
   "execution_count": 21,
   "metadata": {},
   "outputs": [
    {
     "data": {
      "text/html": [
       "<div>\n",
       "<style scoped>\n",
       "    .dataframe tbody tr th:only-of-type {\n",
       "        vertical-align: middle;\n",
       "    }\n",
       "\n",
       "    .dataframe tbody tr th {\n",
       "        vertical-align: top;\n",
       "    }\n",
       "\n",
       "    .dataframe thead th {\n",
       "        text-align: right;\n",
       "    }\n",
       "</style>\n",
       "<table border=\"1\" class=\"dataframe\">\n",
       "  <thead>\n",
       "    <tr style=\"text-align: right;\">\n",
       "      <th></th>\n",
       "      <th>SUBST</th>\n",
       "      <th>PRON</th>\n",
       "      <th>VERB</th>\n",
       "      <th>ADJ</th>\n",
       "      <th>ART</th>\n",
       "      <th>PREP</th>\n",
       "      <th>UNC</th>\n",
       "      <th>ADV</th>\n",
       "      <th>CONJ</th>\n",
       "      <th>INTERJ</th>\n",
       "    </tr>\n",
       "  </thead>\n",
       "  <tbody>\n",
       "    <tr>\n",
       "      <th>the</th>\n",
       "      <td>0.0</td>\n",
       "      <td>0.0</td>\n",
       "      <td>0.0</td>\n",
       "      <td>0.0</td>\n",
       "      <td>51512.0</td>\n",
       "      <td>0.0</td>\n",
       "      <td>0.0</td>\n",
       "      <td>0.0</td>\n",
       "      <td>0.0</td>\n",
       "      <td>0.0</td>\n",
       "    </tr>\n",
       "    <tr>\n",
       "      <th>of</th>\n",
       "      <td>0.0</td>\n",
       "      <td>0.0</td>\n",
       "      <td>0.0</td>\n",
       "      <td>0.0</td>\n",
       "      <td>0.0</td>\n",
       "      <td>26097.0</td>\n",
       "      <td>0.0</td>\n",
       "      <td>0.0</td>\n",
       "      <td>0.0</td>\n",
       "      <td>0.0</td>\n",
       "    </tr>\n",
       "    <tr>\n",
       "      <th>and</th>\n",
       "      <td>0.0</td>\n",
       "      <td>0.0</td>\n",
       "      <td>0.0</td>\n",
       "      <td>0.0</td>\n",
       "      <td>0.0</td>\n",
       "      <td>0.0</td>\n",
       "      <td>0.0</td>\n",
       "      <td>0.0</td>\n",
       "      <td>23831.0</td>\n",
       "      <td>0.0</td>\n",
       "    </tr>\n",
       "    <tr>\n",
       "      <th>to</th>\n",
       "      <td>1.0</td>\n",
       "      <td>0.0</td>\n",
       "      <td>0.0</td>\n",
       "      <td>0.0</td>\n",
       "      <td>0.0</td>\n",
       "      <td>23658.0</td>\n",
       "      <td>0.0</td>\n",
       "      <td>0.0</td>\n",
       "      <td>0.0</td>\n",
       "      <td>0.0</td>\n",
       "    </tr>\n",
       "    <tr>\n",
       "      <th>a</th>\n",
       "      <td>144.0</td>\n",
       "      <td>0.0</td>\n",
       "      <td>0.0</td>\n",
       "      <td>0.0</td>\n",
       "      <td>20123.0</td>\n",
       "      <td>0.0</td>\n",
       "      <td>3.0</td>\n",
       "      <td>0.0</td>\n",
       "      <td>0.0</td>\n",
       "      <td>0.0</td>\n",
       "    </tr>\n",
       "  </tbody>\n",
       "</table>\n",
       "</div>"
      ],
      "text/plain": [
       "     SUBST  PRON  VERB  ADJ      ART     PREP  UNC  ADV     CONJ  INTERJ\n",
       "the    0.0   0.0   0.0  0.0  51512.0      0.0  0.0  0.0      0.0     0.0\n",
       "of     0.0   0.0   0.0  0.0      0.0  26097.0  0.0  0.0      0.0     0.0\n",
       "and    0.0   0.0   0.0  0.0      0.0      0.0  0.0  0.0  23831.0     0.0\n",
       "to     1.0   0.0   0.0  0.0      0.0  23658.0  0.0  0.0      0.0     0.0\n",
       "a    144.0   0.0   0.0  0.0  20123.0      0.0  3.0  0.0      0.0     0.0"
      ]
     },
     "execution_count": 21,
     "metadata": {},
     "output_type": "execute_result"
    }
   ],
   "source": [
    "df.head()"
   ]
  },
  {
   "cell_type": "code",
   "execution_count": 22,
   "metadata": {},
   "outputs": [],
   "source": [
    "prob = df\n",
    "columns = sorted(tag_dict, key=tag_dict.get, reverse=True)\n",
    "\n",
    "# rows = sorted(word_dict, key=word_dict.get, reverse=True)\n",
    "for index, row in df.iterrows():\n",
    "    normalization = sum(row)\n",
    "    for colm in columns:\n",
    "        prob.loc[index][colm] = float(df.loc[index][colm])/normalization"
   ]
  },
  {
   "cell_type": "code",
   "execution_count": 24,
   "metadata": {},
   "outputs": [
    {
     "data": {
      "text/html": [
       "<div>\n",
       "<style scoped>\n",
       "    .dataframe tbody tr th:only-of-type {\n",
       "        vertical-align: middle;\n",
       "    }\n",
       "\n",
       "    .dataframe tbody tr th {\n",
       "        vertical-align: top;\n",
       "    }\n",
       "\n",
       "    .dataframe thead th {\n",
       "        text-align: right;\n",
       "    }\n",
       "</style>\n",
       "<table border=\"1\" class=\"dataframe\">\n",
       "  <thead>\n",
       "    <tr style=\"text-align: right;\">\n",
       "      <th></th>\n",
       "      <th>SUBST</th>\n",
       "      <th>PRON</th>\n",
       "      <th>VERB</th>\n",
       "      <th>ADJ</th>\n",
       "      <th>ART</th>\n",
       "      <th>PREP</th>\n",
       "      <th>UNC</th>\n",
       "      <th>ADV</th>\n",
       "      <th>CONJ</th>\n",
       "      <th>INTERJ</th>\n",
       "    </tr>\n",
       "  </thead>\n",
       "  <tbody>\n",
       "    <tr>\n",
       "      <th>the</th>\n",
       "      <td>0.000000</td>\n",
       "      <td>0.0</td>\n",
       "      <td>0.0</td>\n",
       "      <td>0.0</td>\n",
       "      <td>1.000000</td>\n",
       "      <td>0.000000</td>\n",
       "      <td>0.000000</td>\n",
       "      <td>0.0</td>\n",
       "      <td>0.0</td>\n",
       "      <td>0.0</td>\n",
       "    </tr>\n",
       "    <tr>\n",
       "      <th>of</th>\n",
       "      <td>0.000000</td>\n",
       "      <td>0.0</td>\n",
       "      <td>0.0</td>\n",
       "      <td>0.0</td>\n",
       "      <td>0.000000</td>\n",
       "      <td>1.000000</td>\n",
       "      <td>0.000000</td>\n",
       "      <td>0.0</td>\n",
       "      <td>0.0</td>\n",
       "      <td>0.0</td>\n",
       "    </tr>\n",
       "    <tr>\n",
       "      <th>and</th>\n",
       "      <td>0.000000</td>\n",
       "      <td>0.0</td>\n",
       "      <td>0.0</td>\n",
       "      <td>0.0</td>\n",
       "      <td>0.000000</td>\n",
       "      <td>0.000000</td>\n",
       "      <td>0.000000</td>\n",
       "      <td>0.0</td>\n",
       "      <td>1.0</td>\n",
       "      <td>0.0</td>\n",
       "    </tr>\n",
       "    <tr>\n",
       "      <th>to</th>\n",
       "      <td>0.000042</td>\n",
       "      <td>0.0</td>\n",
       "      <td>0.0</td>\n",
       "      <td>0.0</td>\n",
       "      <td>0.000000</td>\n",
       "      <td>0.999958</td>\n",
       "      <td>0.000000</td>\n",
       "      <td>0.0</td>\n",
       "      <td>0.0</td>\n",
       "      <td>0.0</td>\n",
       "    </tr>\n",
       "    <tr>\n",
       "      <th>a</th>\n",
       "      <td>0.007104</td>\n",
       "      <td>0.0</td>\n",
       "      <td>0.0</td>\n",
       "      <td>0.0</td>\n",
       "      <td>0.992748</td>\n",
       "      <td>0.000000</td>\n",
       "      <td>0.000148</td>\n",
       "      <td>0.0</td>\n",
       "      <td>0.0</td>\n",
       "      <td>0.0</td>\n",
       "    </tr>\n",
       "  </tbody>\n",
       "</table>\n",
       "</div>"
      ],
      "text/plain": [
       "        SUBST  PRON  VERB  ADJ       ART      PREP       UNC  ADV  CONJ  \\\n",
       "the  0.000000   0.0   0.0  0.0  1.000000  0.000000  0.000000  0.0   0.0   \n",
       "of   0.000000   0.0   0.0  0.0  0.000000  1.000000  0.000000  0.0   0.0   \n",
       "and  0.000000   0.0   0.0  0.0  0.000000  0.000000  0.000000  0.0   1.0   \n",
       "to   0.000042   0.0   0.0  0.0  0.000000  0.999958  0.000000  0.0   0.0   \n",
       "a    0.007104   0.0   0.0  0.0  0.992748  0.000000  0.000148  0.0   0.0   \n",
       "\n",
       "     INTERJ  \n",
       "the     0.0  \n",
       "of      0.0  \n",
       "and     0.0  \n",
       "to      0.0  \n",
       "a       0.0  "
      ]
     },
     "execution_count": 24,
     "metadata": {},
     "output_type": "execute_result"
    }
   ],
   "source": [
    "prob.head()"
   ]
  },
  {
   "cell_type": "code",
   "execution_count": 25,
   "metadata": {},
   "outputs": [],
   "source": [
    "prob.to_csv(\"./prob.csv\")"
   ]
  },
  {
   "cell_type": "code",
   "execution_count": 34,
   "metadata": {},
   "outputs": [
    {
     "data": {
      "text/plain": [
       "the                0.148031\n",
       "of                 0.000000\n",
       "and                0.000000\n",
       "to                 0.000000\n",
       "a                  0.146958\n",
       "in                 0.000000\n",
       "is                 0.000000\n",
       "it                 0.000000\n",
       "i                  0.000000\n",
       "that               0.000000\n",
       "for                0.000000\n",
       "you                0.000000\n",
       "was                0.000000\n",
       "be                 0.000000\n",
       "on                 0.000000\n",
       "with               0.000000\n",
       "as                 0.000000\n",
       "he                 0.000000\n",
       "'s                 0.000000\n",
       "are                0.000000\n",
       "at                 0.000000\n",
       "not                0.000000\n",
       "this               0.000000\n",
       "have               0.000000\n",
       "or                 0.000000\n",
       "by                 0.000000\n",
       "his                0.000000\n",
       "but                0.000000\n",
       "from               0.000000\n",
       "she                0.000000\n",
       "                     ...   \n",
       "supra-imposing     0.000000\n",
       "yesteryear         0.000000\n",
       "inexhaustible      0.000000\n",
       "tumultuous         0.000000\n",
       "ardently           0.000000\n",
       "p39                0.000000\n",
       "half-dark          0.000000\n",
       "clamoured          0.000000\n",
       "singer/            0.000000\n",
       "songwriter         0.000000\n",
       "accidie            0.000000\n",
       "grumbles           0.000000\n",
       "cuckold            0.000000\n",
       "complementaries    0.000000\n",
       "mollified          0.000000\n",
       "apparition         0.000000\n",
       "outrank            0.000000\n",
       "memorialised       0.000000\n",
       "upturned           0.000000\n",
       "bellies            0.000000\n",
       "consummated        0.000000\n",
       "enduringly         0.000000\n",
       "melodiously        0.000000\n",
       "eximious           0.000000\n",
       "fecund             0.000000\n",
       "afterthought       0.000000\n",
       "lastingly          0.000000\n",
       "delectable         0.000000\n",
       "chagallian         0.000000\n",
       "counterbalances    0.000000\n",
       "Name: ART, Length: 40443, dtype: float64"
      ]
     },
     "execution_count": 34,
     "metadata": {},
     "output_type": "execute_result"
    }
   ],
   "source": [
    "prob[\"ART\"]/sum(prob[\"ART\"])"
   ]
  },
  {
   "cell_type": "code",
   "execution_count": 2,
   "metadata": {},
   "outputs": [],
   "source": [
    "prob = pd.read_csv(\"prob.csv\")"
   ]
  },
  {
   "cell_type": "code",
   "execution_count": 3,
   "metadata": {},
   "outputs": [
    {
     "data": {
      "text/html": [
       "<div>\n",
       "<style scoped>\n",
       "    .dataframe tbody tr th:only-of-type {\n",
       "        vertical-align: middle;\n",
       "    }\n",
       "\n",
       "    .dataframe tbody tr th {\n",
       "        vertical-align: top;\n",
       "    }\n",
       "\n",
       "    .dataframe thead th {\n",
       "        text-align: right;\n",
       "    }\n",
       "</style>\n",
       "<table border=\"1\" class=\"dataframe\">\n",
       "  <thead>\n",
       "    <tr style=\"text-align: right;\">\n",
       "      <th></th>\n",
       "      <th>Unnamed: 0</th>\n",
       "      <th>SUBST</th>\n",
       "      <th>PRON</th>\n",
       "      <th>VERB</th>\n",
       "      <th>ADJ</th>\n",
       "      <th>ART</th>\n",
       "      <th>PREP</th>\n",
       "      <th>UNC</th>\n",
       "      <th>ADV</th>\n",
       "      <th>CONJ</th>\n",
       "      <th>INTERJ</th>\n",
       "    </tr>\n",
       "  </thead>\n",
       "  <tbody>\n",
       "    <tr>\n",
       "      <th>0</th>\n",
       "      <td>the</td>\n",
       "      <td>0.000000</td>\n",
       "      <td>0.0</td>\n",
       "      <td>0.0</td>\n",
       "      <td>0.0</td>\n",
       "      <td>1.000000</td>\n",
       "      <td>0.000000</td>\n",
       "      <td>0.000000</td>\n",
       "      <td>0.0</td>\n",
       "      <td>0.0</td>\n",
       "      <td>0.0</td>\n",
       "    </tr>\n",
       "    <tr>\n",
       "      <th>1</th>\n",
       "      <td>of</td>\n",
       "      <td>0.000000</td>\n",
       "      <td>0.0</td>\n",
       "      <td>0.0</td>\n",
       "      <td>0.0</td>\n",
       "      <td>0.000000</td>\n",
       "      <td>1.000000</td>\n",
       "      <td>0.000000</td>\n",
       "      <td>0.0</td>\n",
       "      <td>0.0</td>\n",
       "      <td>0.0</td>\n",
       "    </tr>\n",
       "    <tr>\n",
       "      <th>2</th>\n",
       "      <td>and</td>\n",
       "      <td>0.000000</td>\n",
       "      <td>0.0</td>\n",
       "      <td>0.0</td>\n",
       "      <td>0.0</td>\n",
       "      <td>0.000000</td>\n",
       "      <td>0.000000</td>\n",
       "      <td>0.000000</td>\n",
       "      <td>0.0</td>\n",
       "      <td>1.0</td>\n",
       "      <td>0.0</td>\n",
       "    </tr>\n",
       "    <tr>\n",
       "      <th>3</th>\n",
       "      <td>to</td>\n",
       "      <td>0.000042</td>\n",
       "      <td>0.0</td>\n",
       "      <td>0.0</td>\n",
       "      <td>0.0</td>\n",
       "      <td>0.000000</td>\n",
       "      <td>0.999958</td>\n",
       "      <td>0.000000</td>\n",
       "      <td>0.0</td>\n",
       "      <td>0.0</td>\n",
       "      <td>0.0</td>\n",
       "    </tr>\n",
       "    <tr>\n",
       "      <th>4</th>\n",
       "      <td>a</td>\n",
       "      <td>0.007104</td>\n",
       "      <td>0.0</td>\n",
       "      <td>0.0</td>\n",
       "      <td>0.0</td>\n",
       "      <td>0.992748</td>\n",
       "      <td>0.000000</td>\n",
       "      <td>0.000148</td>\n",
       "      <td>0.0</td>\n",
       "      <td>0.0</td>\n",
       "      <td>0.0</td>\n",
       "    </tr>\n",
       "  </tbody>\n",
       "</table>\n",
       "</div>"
      ],
      "text/plain": [
       "  Unnamed: 0     SUBST  PRON  VERB  ADJ       ART      PREP       UNC  ADV  \\\n",
       "0        the  0.000000   0.0   0.0  0.0  1.000000  0.000000  0.000000  0.0   \n",
       "1         of  0.000000   0.0   0.0  0.0  0.000000  1.000000  0.000000  0.0   \n",
       "2        and  0.000000   0.0   0.0  0.0  0.000000  0.000000  0.000000  0.0   \n",
       "3         to  0.000042   0.0   0.0  0.0  0.000000  0.999958  0.000000  0.0   \n",
       "4          a  0.007104   0.0   0.0  0.0  0.992748  0.000000  0.000148  0.0   \n",
       "\n",
       "   CONJ  INTERJ  \n",
       "0   0.0     0.0  \n",
       "1   0.0     0.0  \n",
       "2   1.0     0.0  \n",
       "3   0.0     0.0  \n",
       "4   0.0     0.0  "
      ]
     },
     "execution_count": 3,
     "metadata": {},
     "output_type": "execute_result"
    }
   ],
   "source": [
    "prob.head()"
   ]
  },
  {
   "cell_type": "code",
   "execution_count": null,
   "metadata": {},
   "outputs": [],
   "source": []
  }
 ],
 "metadata": {
  "kernelspec": {
   "display_name": "Python 3",
   "language": "python",
   "name": "python3"
  },
  "language_info": {
   "codemirror_mode": {
    "name": "ipython",
    "version": 3
   },
   "file_extension": ".py",
   "mimetype": "text/x-python",
   "name": "python",
   "nbconvert_exporter": "python",
   "pygments_lexer": "ipython3",
   "version": "3.6.4"
  }
 },
 "nbformat": 4,
 "nbformat_minor": 2
}
